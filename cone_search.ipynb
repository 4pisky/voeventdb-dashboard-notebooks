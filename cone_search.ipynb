{
 "cells": [
  {
   "cell_type": "code",
   "execution_count": null,
   "metadata": {
    "collapsed": true
   },
   "outputs": [],
   "source": [
    "from __future__ import print_function\n",
    "import voeventdb.remote as vr\n",
    "import voeventdb.remote.apiv1 as apiv1\n",
    "from voeventdb.remote.apiv1 import (FilterKeys, OrderValues)\n",
    "from voeventdb.remote.helpers import Synopsis\n",
    "from astropy.coordinates import Angle, SkyCoord"
   ]
  },
  {
   "cell_type": "markdown",
   "metadata": {},
   "source": [
    "[(SkyCoord docs)](http://docs.astropy.org/en/stable/api/astropy.coordinates.SkyCoord.html)"
   ]
  },
  {
   "cell_type": "code",
   "execution_count": null,
   "metadata": {
    "collapsed": true
   },
   "outputs": [],
   "source": [
    "cone_centre = SkyCoord(ra=15, dec=-25, unit=\"deg\")\n",
    "cone_radius = Angle(15, unit=\"deg\")\n",
    "cone = (cone_centre, cone_radius)"
   ]
  },
  {
   "cell_type": "markdown",
   "metadata": {},
   "source": [
    "Comment or uncomment lines from the dictionary below, to define filters as required:"
   ]
  },
  {
   "cell_type": "code",
   "execution_count": null,
   "metadata": {
    "collapsed": false
   },
   "outputs": [],
   "source": [
    "my_filters = {\n",
    "    FilterKeys.cone: cone,\n",
    "#     FilterKeys.dec_greater_than : 0,\n",
    "#     FilterKeys.dec_less_than : 45,\n",
    "#     FilterKeys.ivorn_contains : \"BAT_GRB\",\n",
    "    FilterKeys.role : \"observation\",    \n",
    "#     FilterKeys.stream: 'voevent.4pisky.org/ASASSN',\n",
    "}"
   ]
  },
  {
   "cell_type": "markdown",
   "metadata": {},
   "source": [
    "Check if the result-set is a reasonable size \n",
    "(if it's large, you may want to use ``n_max`` when fetching a list):"
   ]
  },
  {
   "cell_type": "code",
   "execution_count": null,
   "metadata": {
    "collapsed": false
   },
   "outputs": [],
   "source": [
    "apiv1.count(filters=my_filters)"
   ]
  },
  {
   "cell_type": "markdown",
   "metadata": {},
   "source": [
    "Get a summary of which streams contain matching events:"
   ]
  },
  {
   "cell_type": "code",
   "execution_count": null,
   "metadata": {
    "collapsed": false
   },
   "outputs": [],
   "source": [
    "apiv1.map_stream_count(filters=my_filters)"
   ]
  },
  {
   "cell_type": "code",
   "execution_count": null,
   "metadata": {
    "collapsed": false
   },
   "outputs": [],
   "source": [
    "matching_ivorns = apiv1.list_ivorn(\n",
    "    filters=my_filters, \n",
    "    order=OrderValues.author_datetime_desc,\n",
    "    n_max=25\n",
    ")"
   ]
  },
  {
   "cell_type": "code",
   "execution_count": null,
   "metadata": {
    "collapsed": false
   },
   "outputs": [],
   "source": [
    "matching_ivorns"
   ]
  },
  {
   "cell_type": "markdown",
   "metadata": {},
   "source": [
    "Inspect a particular packet:"
   ]
  },
  {
   "cell_type": "code",
   "execution_count": null,
   "metadata": {
    "collapsed": false
   },
   "outputs": [],
   "source": [
    "# ivorn_of_interest = 'ivo://voevent.4pisky.org/ASASSN#2014-05-29.4_ASASSN-14bn'\n",
    "ivorn_of_interest = matching_ivorns[0]\n",
    "ivorn_of_interest"
   ]
  },
  {
   "cell_type": "code",
   "execution_count": null,
   "metadata": {
    "collapsed": false
   },
   "outputs": [],
   "source": [
    "print(Synopsis(apiv1.packet_synopsis(ivorn_of_interest)))"
   ]
  },
  {
   "cell_type": "code",
   "execution_count": null,
   "metadata": {
    "collapsed": true
   },
   "outputs": [],
   "source": [
    "raw_packet = apiv1.packet_xml(ivorn_of_interest)\n",
    "with open('raw_packet.xml', 'w') as f:\n",
    "    f.write(raw_packet)"
   ]
  },
  {
   "cell_type": "markdown",
   "metadata": {},
   "source": [
    "Link to open XML in browser: [raw_packet.xml](raw_packet.xml)"
   ]
  }
 ],
 "metadata": {
  "kernelspec": {
   "display_name": "Python 2",
   "language": "python",
   "name": "python2"
  },
  "language_info": {
   "codemirror_mode": {
    "name": "ipython",
    "version": 2
   },
   "file_extension": ".py",
   "mimetype": "text/x-python",
   "name": "python",
   "nbconvert_exporter": "python",
   "pygments_lexer": "ipython2",
   "version": "2.7.6"
  }
 },
 "nbformat": 4,
 "nbformat_minor": 0
}
